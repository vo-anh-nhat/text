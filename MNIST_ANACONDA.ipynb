{
 "cells": [
  {
   "cell_type": "code",
   "execution_count": 7,
   "id": "0510879c-8d49-4ff7-9795-87471e211d3c",
   "metadata": {},
   "outputs": [],
   "source": [
    "import matplotlib.pyplot as plt\n",
    "import numpy as np"
   ]
  },
  {
   "cell_type": "markdown",
   "id": "bb70cc24-f766-43a5-8be1-a1d242b492b4",
   "metadata": {},
   "source": [
    "## Read data method 1: by python"
   ]
  },
  {
   "cell_type": "code",
   "execution_count": 8,
   "id": "94480ad3-313d-481a-94e5-a3ca9c43ccc2",
   "metadata": {
    "editable": true,
    "scrolled": true,
    "slideshow": {
     "slide_type": ""
    },
    "tags": []
   },
   "outputs": [
    {
     "name": "stdout",
     "output_type": "stream",
     "text": [
      "[0.         0.         0.         0.         0.         0.\n",
      " 0.         0.         0.         0.         0.         0.\n",
      " 0.         0.         0.         0.         0.         0.\n",
      " 0.         0.         0.         0.         0.         0.\n",
      " 0.         0.         0.         0.         0.         0.\n",
      " 0.         0.         0.         0.         0.         0.\n",
      " 0.         0.         0.         0.         0.         0.\n",
      " 0.         0.         0.         0.         0.         0.\n",
      " 0.         0.         0.         0.03137255 0.07843138 0.0627451\n",
      " 0.01960784 0.         0.         0.         0.         0.\n",
      " 0.         0.         0.         0.         0.         0.\n",
      " 0.         0.3137255  0.67058825 0.61960787 0.44705883 0.33725491\n",
      " 0.33333334 0.33333334 0.32941177 0.28627452 0.08235294 0.\n",
      " 0.         0.         0.         0.         0.         0.19607843\n",
      " 0.38431373 0.44313726 0.64705884 0.6901961  0.72941178 0.74117649\n",
      " 0.72549021 0.85882354 0.31764707 0.         0.         0.\n",
      " 0.         0.         0.         0.         0.         0.\n",
      " 0.02352941 0.04313726 0.06666667 0.07450981 0.41176471 0.75294119\n",
      " 0.16470589 0.         0.         0.         0.         0.\n",
      " 0.         0.         0.         0.         0.         0.\n",
      " 0.         0.12156863 0.76862746 0.47450981 0.03137255 0.\n",
      " 0.         0.         0.         0.         0.         0.\n",
      " 0.         0.         0.         0.         0.01568628 0.43137255\n",
      " 0.75686276 0.13333334 0.00392157 0.         0.         0.\n",
      " 0.         0.         0.         0.         0.         0.\n",
      " 0.         0.         0.09411765 0.7019608  0.39215687 0.01176471\n",
      " 0.         0.         0.         0.         0.         0.\n",
      " 0.         0.         0.         0.         0.         0.04705882\n",
      " 0.50980395 0.72549021 0.09019608 0.         0.         0.\n",
      " 0.         0.         0.         0.         0.         0.\n",
      " 0.         0.         0.00392157 0.36078432 0.81568629 0.35294119\n",
      " 0.00392157 0.         0.         0.         0.         0.\n",
      " 0.         0.         0.         0.         0.         0.\n",
      " 0.1254902  0.70588237 0.56078434 0.05882353 0.         0.\n",
      " 0.         0.         0.         0.         0.         0.\n",
      " 0.         0.         0.         0.01960784 0.50588238 0.87843138\n",
      " 0.24313726 0.         0.         0.         0.         0.\n",
      " 0.         0.         0.         0.         0.         0.\n",
      " 0.         0.11372549 0.81960785 0.75686276 0.15686275 0.\n",
      " 0.         0.         0.         0.         0.         0.\n",
      " 0.         0.         0.         0.         0.         0.0627451\n",
      " 0.3882353  0.2        0.01176471 0.         0.         0.\n",
      " 0.         0.         0.         0.        ]\n",
      "====================================================================================================\n",
      "7\n"
     ]
    }
   ],
   "source": [
    "data_list = []\n",
    "label_list = []\n",
    "with open(\"C:\\MEARCHING LEARNING\\mnist.csv\", \"r\") as file:\n",
    "    line_count = 0\n",
    "    for line in file:\n",
    "        if line_count > 0: #skip first row\n",
    "            #print(line)\n",
    "            _, data, label = line.split('\"')\n",
    "            label = label.strip(\",\\n\")\n",
    "\n",
    "            data = eval(data)  #convert string to list\n",
    "            label = eval(label) #convert string to int\n",
    "            #check datatype by your own\n",
    "\n",
    "            data = np.array(data)\n",
    "            data_list += [data]\n",
    "            label_list += [label]\n",
    "\n",
    "        if line_count > 1: break\n",
    "        if line_count == 1:\n",
    "            print(data)\n",
    "            print(\"=\"*100)\n",
    "            print(label)\n",
    "\n",
    "        line_count += 1 #keep track of num line"
   ]
  },
  {
   "cell_type": "markdown",
   "id": "8aff3439-bbca-4259-b351-b2f3e5f25207",
   "metadata": {},
   "source": [
    "## Read data method 2: by pandas"
   ]
  },
  {
   "cell_type": "code",
   "execution_count": 9,
   "id": "8bed018b-4558-4e1e-8fc5-ea23646c5484",
   "metadata": {},
   "outputs": [],
   "source": [
    "import pandas as pd"
   ]
  },
  {
   "cell_type": "code",
   "execution_count": 11,
   "id": "4229e7fb-e9e4-4a5a-8ace-400a090622e7",
   "metadata": {},
   "outputs": [],
   "source": [
    "data_list = pd.read_csv(\"C:\\MEARCHING LEARNING\\mnist.csv\")[\"im_np\"].tolist()\n",
    "label_list = pd.read_csv(\"C:\\MEARCHING LEARNING\\mnist.csv\")[\"label\"].tolist()\n",
    "for idx in range(len(data_list)):\n",
    "    data_list[idx] = eval(data_list[idx])"
   ]
  },
  {
   "cell_type": "markdown",
   "id": "1e00300a-ca50-42fd-9070-7ac2e3b36089",
   "metadata": {},
   "source": [
    "## Read weights matrix"
   ]
  },
  {
   "cell_type": "code",
   "execution_count": 12,
   "id": "4ef64641-c7a2-4a06-a8b5-077eef8bd5a9",
   "metadata": {},
   "outputs": [],
   "source": [
    "import pandas as pd"
   ]
  },
  {
   "cell_type": "code",
   "execution_count": 13,
   "id": "a94ca57d",
   "metadata": {},
   "outputs": [
    {
     "data": {
      "text/plain": [
       "array([[ 0.01807571,  0.056133  , -0.03982355, ...,  0.02393951,\n",
       "        -0.00677881,  0.02508599],\n",
       "       [-0.03139763, -0.0455134 , -0.0016154 , ..., -0.00444259,\n",
       "         0.00256485, -0.04152447],\n",
       "       [-0.00457726, -0.04519191,  0.00536901, ..., -0.01456787,\n",
       "        -0.03682393,  0.0267612 ],\n",
       "       ...,\n",
       "       [-0.03694824,  0.02993197,  0.03661832, ..., -0.01143497,\n",
       "        -0.00618041, -0.01277103],\n",
       "       [ 0.02257714, -0.01500036,  0.05167545, ...,  0.03793793,\n",
       "        -0.01124968,  0.00618968],\n",
       "       [ 0.01810823, -0.05973237, -0.01715215, ...,  0.03303899,\n",
       "         0.00775887, -0.01019129]])"
      ]
     },
     "execution_count": 13,
     "metadata": {},
     "output_type": "execute_result"
    }
   ],
   "source": [
    "wei = pd.read_csv(\"weights.csv\").values\n",
    "wei"
   ]
  },
  {
   "cell_type": "markdown",
   "id": "7edb1e58-3051-4a5c-a4f5-247ef949e51d",
   "metadata": {},
   "source": [
    "## Multiply weigh matrix with data vector --> magic happen"
   ]
  },
  {
   "cell_type": "code",
   "execution_count": 14,
   "id": "45652d0e-a2db-4a99-9299-a13953828bac",
   "metadata": {},
   "outputs": [
    {
     "data": {
      "text/plain": [
       "(10, 256)"
      ]
     },
     "execution_count": 14,
     "metadata": {},
     "output_type": "execute_result"
    }
   ],
   "source": [
    "wei.shape"
   ]
  },
  {
   "cell_type": "code",
   "execution_count": 15,
   "id": "365e1a9f-08f8-46ef-8c96-97239f862513",
   "metadata": {},
   "outputs": [
    {
     "data": {
      "text/plain": [
       "(256,)"
      ]
     },
     "execution_count": 15,
     "metadata": {},
     "output_type": "execute_result"
    }
   ],
   "source": [
    "data.shape"
   ]
  },
  {
   "cell_type": "code",
   "execution_count": 16,
   "id": "95efec4f-429f-40cb-b9f8-9601de5cb722",
   "metadata": {},
   "outputs": [
    {
     "name": "stdout",
     "output_type": "stream",
     "text": [
      "(10,)\n",
      "[ 0.92089935 -0.37732709  2.97368402  1.6567652  -3.58662005  1.48455782\n",
      "  1.95307144 -3.66000335  1.04328261 -2.98626354]\n"
     ]
    },
    {
     "data": {
      "text/plain": [
       "<matplotlib.image.AxesImage at 0x231257404f0>"
      ]
     },
     "execution_count": 16,
     "metadata": {},
     "output_type": "execute_result"
    },
    {
     "data": {
      "image/png": "[encoded data removed]",
      "text/plain": [
       "<Figure size 640x480 with 1 Axes>"
      ]
     },
     "metadata": {},
     "output_type": "display_data"
    }
   ],
   "source": [
    "import numpy as np\n",
    "res = np.dot(wei, data) # wei . data\n",
    "print(res.shape)\n",
    "print(res)\n",
    "plt.imshow(data.reshape(16, 16), cmap=\"gray\", vmin=0, vmax=1)"
   ]
  },
  {
   "cell_type": "markdown",
   "id": "0c168a37-48a7-42a3-82bf-d5474b3577a9",
   "metadata": {},
   "source": [
    "## Compulsory exercise: write matric multiplication without using any library"
   ]
  },
  {
   "cell_type": "code",
   "execution_count": 7,
   "id": "ef34dc08-628d-4920-841a-1ab38839e4b6",
   "metadata": {},
   "outputs": [],
   "source": [
    "# user input these mat and vec of arbitrary shape\n",
    "J = [\n",
    "        [2, 1],\n",
    "      \n",
    "      ]\n",
    "\n",
    "I = [\n",
    "        [-1, 0],\n",
    "      \n",
    "      ]\n",
    "A = [[0, -1], [1, 0]]\n",
    "# #your logics\n",
    "# result = ...\n",
    "\n",
    "# print(result)"
   ]
  },
  {
   "cell_type": "markdown",
   "id": "05841c85",
   "metadata": {},
   "source": [
    "## ĐẠO HÀM"
   ]
  },
  {
   "cell_type": "code",
   "execution_count": null,
   "id": "89c32cf6",
   "metadata": {},
   "outputs": [
    {
     "name": "stdout",
     "output_type": "stream",
     "text": [
      "1.00000000000000\n",
      "1.00000000000000\n",
      "1.00000000000000\n",
      "nan\n"
     ]
    }
   ],
   "source": [
    "from sympy import symbols, solve\n",
    "x = symbols(\"x\")\n",
    "for i in [0.01, 0.009, 0.008, 0]:\n",
    "    fx = (((x+i) -x) / i)\n",
    "\n",
    "    print(fx) "
   ]
  }
 ],
 "metadata": {
  "kernelspec": {
   "display_name": "new_venv",
   "language": "python",
   "name": "python3"
  },
  "language_info": {
   "codemirror_mode": {
    "name": "ipython",
    "version": 3
   },
   "file_extension": ".py",
   "mimetype": "text/x-python",
   "name": "python",
   "nbconvert_exporter": "python",
   "pygments_lexer": "ipython3",
   "version": "3.10.11"
  }
 },
 "nbformat": 4,
 "nbformat_minor": 5
}
