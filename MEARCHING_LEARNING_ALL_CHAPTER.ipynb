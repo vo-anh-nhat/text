{
 "cells": [
  {
   "cell_type": "markdown",
   "metadata": {},
   "source": [
    "## CHAPTER 1"
   ]
  },
  {
   "cell_type": "markdown",
   "metadata": {},
   "source": [
    "## MULTIPLY MATRIX WITHOUT USING LIBRARY IN PYTHON"
   ]
  },
  {
   "cell_type": "code",
   "execution_count": 1,
   "metadata": {},
   "outputs": [
    {
     "name": "stdout",
     "output_type": "stream",
     "text": [
      "Matrix 1\n",
      "[1.0, 4.0, 2.0]\n",
      "[14.0, 3.0, 1.0]\n",
      "Transpose of A (A^ T: )\n",
      "[1.0, 14.0]\n",
      "[4.0, 3.0]\n",
      "[2.0, 1.0]\n",
      "Matrix 2\n",
      "[4.0, 3.0]\n",
      "[65.0, 3.0]\n",
      "[3.0, 5.0]\n",
      "Result of calculate multiply\n",
      "[270.0, 25.0]\n",
      "[254.0, 56.0]\n",
      "Condition X to (X - A) * A^ T = B: \n",
      "[5.0, 4.214285714285714]\n",
      "[30.25, 4.0]\n"
     ]
    }
   ],
   "source": [
    "print(\"Matrix 1\")\n",
    "row_1 = int(input(\"Input number row of matrix 1: \"))\n",
    "column_1 = int(input(\"Input number column of matrix 1: \"))\n",
    "A = []\n",
    "for i in range(row_1):\n",
    "    row = list(map(float, input(f\"Input each element row {i+1} of matrix 1 is separarated by commas: \").split()))\n",
    "    A.append(row)\n",
    "for i in A:\n",
    "    print(i)\n",
    "D = [[A[j][i] for j in range(row_1)] for i in range(column_1)]\n",
    "print(\"Transpose of A (A^ T: )\")\n",
    "for i in D:\n",
    "    print(i)\n",
    "print(\"Matrix 2\")\n",
    "row_2 = int(input(\"Input number row of matrix 2: \"))\n",
    "column_2 = int(input(\"Input number column of matrix 2: \"))\n",
    "if column_1 != row_2:\n",
    "    print(\"Matrix can not calculate multiply\")\n",
    "else: \n",
    "    B = []\n",
    "    for i in range(row_2):\n",
    "        row = list(map(float, input(f\"Input each element column {i + 1} of matrix 2 is separated by commas: \").split()))\n",
    "        B.append(row)\n",
    "    for j in B:\n",
    "        print(j)\n",
    "    C = [[0 for _ in range(column_2)] for _ in range(row_1)]\n",
    "    for i in range(row_1):\n",
    "        for j in range(column_2):\n",
    "            for k in range(column_1):\n",
    "                C[i][j] += A[i][k] * B[k][j]\n",
    "    print(\"Result of calculate multiply\")\n",
    "    for row in C:\n",
    "        print(row)\n",
    "# Find X to (X - A) * A^ T = B\n",
    "X = [[0 for _ in range(column_2)] for _ in range(row_1)]\n",
    "for i in range(row_1):\n",
    "    for j in range(column_2):\n",
    "        X[i][j] = (B[i][j] / D[i][j]) + A[i][j] if D[i][j] != 0 else None\n",
    "print(\"Condition X to (X - A) * A^ T = B: \")\n",
    "for x in X:\n",
    "    print(x)\n"
   ]
  },
  {
   "cell_type": "markdown",
   "metadata": {},
   "source": [
    "## MULTIPLY MATRIX WITH USING LIBRARY IN PYTHON"
   ]
  },
  {
   "cell_type": "code",
   "execution_count": null,
   "metadata": {},
   "outputs": [
    {
     "name": "stdout",
     "output_type": "stream",
     "text": [
      "Matrix 1\n",
      "[[-1.  0.  1. -1.]\n",
      " [ 2.  1. -3.  4.]\n",
      " [ 1.  2. -2.  8.]\n",
      " [-2.  0.  2.  1.]]\n",
      "Matrix 2\n",
      "[[1. 1. 1. 1.]\n",
      " [2. 2. 3. 5.]\n",
      " [3. 3. 4. 5.]\n",
      " [1. 1. 1. 2.]]\n",
      "Result of calculate multiply\n",
      "[[ 1.  1.  2.  2.]\n",
      " [-1. -1. -3.  0.]\n",
      " [ 7.  7.  7. 17.]\n",
      " [ 5.  5.  7. 10.]]\n",
      "Condition X to (X - A) * A^ T = B: \n",
      "[[-2.     0.5    2.    -1.5  ]\n",
      " [   inf  3.    -1.5      inf]\n",
      " [ 4.     1.    -4.    10.5  ]\n",
      " [-3.     0.25   2.125  3.   ]]\n"
     ]
    },
    {
     "name": "stderr",
     "output_type": "stream",
     "text": [
      "C:\\Users\\voanh\\AppData\\Local\\Temp\\ipykernel_8664\\2134708356.py:32: RuntimeWarning: divide by zero encountered in divide\n",
      "  X = (b / c) + a\n"
     ]
    }
   ],
   "source": [
    "import numpy as np\n",
    "print(\"Matrix 1\")\n",
    "row_1 = int(input(\"Input number row of matrix 1: \"))\n",
    "column_1 = int(input(\"Input number column of matrix 1: \"))\n",
    "A = []\n",
    "for i in range(row_1):\n",
    "    row = list(map(float, input(f\"Input each element row {i+1} of matrix 1 is separarated by commas: \").split()))\n",
    "    A.append(row)\n",
    "a = np.array(A)\n",
    "c = a.T\n",
    "print(a)\n",
    "print(\"Matrix 2\")\n",
    "row_2 = int(input(\"Input number row of matrix 2: \"))\n",
    "column_2 = int(input(\"Input number column of matrix 2: \"))\n",
    "if column_1 != row_2:\n",
    "    print(\"Matrix can not calculate multiply\")\n",
    "else: \n",
    "    B = []\n",
    "    for i in range(row_2):\n",
    "        row = list(map(float, input(f\"Input each element column {i + 1} of matrix 2 is separated by commas: \").split()))\n",
    "        B.append(row)\n",
    "    b = np.array(B)\n",
    "    print(b)\n",
    "    mul = np.dot(a, b)\n",
    "    print(\"Result of calculate multiply\")\n",
    "    print(mul)\n",
    "# Find X to (X - A) * A^ T = B\n",
    "X = (b / c) + a\n",
    "print(\"Condition X to (X - A) * A^ T = B: \")\n",
    "print(X)"
   ]
  },
  {
   "cell_type": "markdown",
   "metadata": {},
   "source": [
    "## INVERSE MATRIX WITHOUT USING LIBRARY IN PYTHON"
   ]
  },
  {
   "cell_type": "code",
   "execution_count": 8,
   "metadata": {},
   "outputs": [
    {
     "name": "stdout",
     "output_type": "stream",
     "text": [
      "Matrix: \n",
      "[8.0, 5.0, 9.0]\n",
      "[2.0, 5.0, 7.0]\n",
      "[9.0, 8.0, 7.0]\n",
      "Inverse matrix is:\n",
      "[0.11413043478260869, -0.20108695652173914, 0.05434782608695652]\n",
      "[-0.266304347826087, 0.1358695652173913, 0.20652173913043478]\n",
      "[0.15760869565217392, 0.10326086956521739, -0.16304347826086957]\n"
     ]
    }
   ],
   "source": [
    "def calculator_det(A):\n",
    "    n = len(A)\n",
    "    if n == 1:\n",
    "        return A[0][0]\n",
    "    elif n == 2:\n",
    "        return A[0][0] * A[1][1] - A[0][1] * A[1][0] \n",
    "    else:\n",
    "        det = 0\n",
    "        for column in range(n):\n",
    "            submatrix = [row[:column] + row[column + 1:] for row in A[1:]]\n",
    "            det += ((-1) ** column) * A[0][column] * calculator_det(submatrix)\n",
    "        return det\n",
    "\n",
    "def calculator_inverse(A):\n",
    "    n = len(A)\n",
    "    det_A = calculator_det(A)\n",
    "    if det_A == 0:\n",
    "        print(\"Cannot inverse matrix A because det is 0!\")\n",
    "        return None  \n",
    "    else:\n",
    "        C = [[0 for _ in range(n)] for _ in range(n)]\n",
    "        for i in range(n):\n",
    "            for j in range(n):\n",
    "                submatrix = [row[:j] + row[j + 1:] for row in (A[:i] + A[i + 1:])]\n",
    "                sub_det = calculator_det(submatrix)\n",
    "                C[i][j] = ((-1) ** (i + j)) * sub_det\n",
    "        D = [[C[j][i] for j in range(n)] for i in range(n)] \n",
    "        inverse = [[D[i][j] / det_A for j in range(n)] for i in range(n)]  \n",
    "        return inverse\n",
    "row = int(input(\"Input number row of matrix: \"))\n",
    "column = int(input(\"Input number column of matrix: \"))\n",
    "\n",
    "if row != column:\n",
    "    print(\"Cannot calculate inverse!\")\n",
    "else:\n",
    "    A = []\n",
    "    for i in range(row):\n",
    "        a = list(map(float, input(f\"Input each variable of row {i + 1} in matrix: \").split()))\n",
    "        A.append(a)\n",
    "    print(\"Matrix: \")\n",
    "    for j in A:\n",
    "        print(j)\n",
    "    \n",
    "    inverse = calculator_inverse(A)\n",
    "    if inverse:\n",
    "        print(\"Inverse matrix is:\")\n",
    "        for row in inverse:\n",
    "            print(row)\n"
   ]
  },
  {
   "cell_type": "markdown",
   "metadata": {},
   "source": [
    "## INVERSE MATRIX WITH USING LIBRARY IN PYTHON"
   ]
  },
  {
   "cell_type": "code",
   "execution_count": 9,
   "metadata": {},
   "outputs": [
    {
     "name": "stdout",
     "output_type": "stream",
     "text": [
      "[[8. 5. 9.]\n",
      " [2. 5. 7.]\n",
      " [9. 8. 7.]]\n",
      "Result inverse matrix: \n",
      "[[ 0.11413043 -0.20108696  0.05434783]\n",
      " [-0.26630435  0.13586957  0.20652174]\n",
      " [ 0.1576087   0.10326087 -0.16304348]]\n"
     ]
    }
   ],
   "source": [
    "import numpy as np\n",
    "row = int(input(\"Input number row of matrix: \"))\n",
    "column = int(input(\"Input number column of matrix: \"))\n",
    "\n",
    "if row != column:\n",
    "    print(\"Can not inverse!\")\n",
    "else:\n",
    "    matrix = []\n",
    "    for i in range(row):\n",
    "        row_1 = list(map(float, input(f\"Input each variable row {i + 1} of matrix 1: \").split()))\n",
    "        matrix.append(row_1)\n",
    "    a = np.array(matrix)\n",
    "    print(a)\n",
    "    det_a = np.linalg.det(a)\n",
    "    if det_a == 0:\n",
    "        print(\"Can not inverse.\")\n",
    "    else:\n",
    "        inverse = np.linalg.inv(a)\n",
    "        print(\"Result inverse matrix: \")\n",
    "        print(inverse)\n"
   ]
  },
  {
   "cell_type": "markdown",
   "metadata": {},
   "source": [
    "## TRANSITION MATRIX WITHOUT USING LIBRARY IN PYTHON"
   ]
  },
  {
   "cell_type": "code",
   "execution_count": 10,
   "metadata": {},
   "outputs": [
    {
     "name": "stdout",
     "output_type": "stream",
     "text": [
      "Matrix: \n",
      "[8.0, 5.0, 9.0]\n",
      "[2.0, 5.0, 7.0]\n",
      "[9.0, 8.0, 7.0]\n",
      "Result of transition matrix is: \n",
      "[8.0, 2.0, 9.0]\n",
      "[5.0, 5.0, 8.0]\n",
      "[9.0, 7.0, 7.0]\n"
     ]
    }
   ],
   "source": [
    "row_1 = int(input(\"Input number row of matrix: \"))\n",
    "column_1 = int(input(\"Input number column of matrix: \"))\n",
    "A = []\n",
    "for i in range(row_1):\n",
    "    row = list(map(float, input(f\"Input each element row {i+1} of matrix 1 is separated by commas: \").split()))\n",
    "    A.append(row)\n",
    "print(\"Matrix: \")\n",
    "for j in A:\n",
    "    print(j)\n",
    "C = [[0 for _ in range(row_1)] for _ in range(column_1)]\n",
    "for i in range(row_1):\n",
    "    for j in range(column_1):\n",
    "        C[j][i] = A[i][j]\n",
    "print(\"Result of transition matrix is: \")\n",
    "for row in C:\n",
    "    print(row)"
   ]
  },
  {
   "cell_type": "markdown",
   "metadata": {},
   "source": [
    "## TRANSITION MATRIX USING LIBRARY IN PYTHON"
   ]
  },
  {
   "cell_type": "code",
   "execution_count": 11,
   "metadata": {},
   "outputs": [
    {
     "name": "stdout",
     "output_type": "stream",
     "text": [
      "[[8. 5. 9.]\n",
      " [2. 5. 7.]\n",
      " [9. 8. 7.]]\n",
      "Result transition matrix is: \n",
      "[[8. 2. 9.]\n",
      " [5. 5. 8.]\n",
      " [9. 7. 7.]]\n"
     ]
    }
   ],
   "source": [
    "import numpy as np\n",
    "row_1 = int(input(\"Input number row of matrix: \"))\n",
    "column_1 = int(input(\"Input number column of matrix: \"))\n",
    "matrix_1 = []\n",
    "for i in range(row_1):\n",
    "    row = list(map(float, input(f\"Input each variable row {i + 1} of matrix: \").split()))\n",
    "    matrix_1.append(row)\n",
    "a = np.array(matrix_1)\n",
    "print(a)\n",
    "trans = a.T\n",
    "print(\"Result transition matrix is: \")\n",
    "print(trans)\n",
    "\n"
   ]
  },
  {
   "cell_type": "markdown",
   "metadata": {},
   "source": [
    "## ADD, SUB, DIV TWO MATRIXS WITHOUT USING LIBRARY IN PYTHON"
   ]
  },
  {
   "cell_type": "code",
   "execution_count": null,
   "metadata": {},
   "outputs": [
    {
     "name": "stdout",
     "output_type": "stream",
     "text": [
      "Matrix 1\n",
      "[8.0, 5.0, 9.0]\n",
      "[2.0, 5.0, 7.0]\n",
      "[9.0, 8.0, 7.0]\n",
      "Matrix 2\n",
      "[1.0, 4.0, 5.0]\n",
      "[6.0, 4.0, 3.0]\n",
      "[8.0, 5.0, 9.0]\n",
      "Result of add double matrixs:\n",
      "[9.0, 9.0, 14.0]\n",
      "[8.0, 9.0, 10.0]\n",
      "[17.0, 13.0, 16.0]\n",
      "Result of subtraction double matrixs: \n",
      "[7.0, 1.0, 4.0]\n",
      "[-4.0, 1.0, 4.0]\n",
      "[1.0, 3.0, -2.0]\n",
      "Result of division double matrixs: \n",
      "[8.0, 1.0, 1.0]\n",
      "[0.0, 1.0, 2.0]\n",
      "[1.0, 1.0, 0.0]\n"
     ]
    }
   ],
   "source": [
    "print(\"Matrix 1\")\n",
    "row_1 = int(input(\"Input number of row in matrix 1: \"))\n",
    "column_1 = int(input(\"Input number of column in matrix 1: \"))\n",
    "A = []\n",
    "for i in range(row_1):\n",
    "    a = list(map(float, input(f\"Input each variable row {i + 1} of matrix 1: \").split()))\n",
    "    A.append(a)\n",
    "for j in A:\n",
    "    print(j)\n",
    "print(\"Matrix 2\")\n",
    "row_2 = int(input(\"Input number of row in matrix 2: \"))\n",
    "column_2 = int(input(\"Input number of column in matrix 2: \"))\n",
    "if row_1 != row_2 and column_1 != column_2:\n",
    "    print(\"Matrix can not calculate add, subtraction or division.\")\n",
    "else:\n",
    "    B = []\n",
    "    for i in range(row_2):\n",
    "        b = list(map(float, input(f\"Input each variable row {i + 1} of matrix 2: \").split()))\n",
    "        B.append(b)\n",
    "    for j in B:\n",
    "        print(j)\n",
    "\n",
    "    C = [[0 for _ in range(row_1)] for _ in range(row_2)]\n",
    "    D = [[0 for _ in range(row_1)] for _ in range(row_2)]\n",
    "    E = [[0 for _ in range(row_1)] for _ in range(row_2)]\n",
    "    for i in range(row_1):\n",
    "        for j in range(row_2):\n",
    "            C[i][j] = A[i][j] + B[i][j]\n",
    "            D[i][j] = A[i][j] - B[i][j]\n",
    "            E[i][j] = A[i][j] // B[i][j]\n",
    "    print(\"Result of add double matrixs:\")\n",
    "    for a in C:\n",
    "        print(a)\n",
    "    print(\"Result of subtraction double matrixs: \")\n",
    "    for b in D:\n",
    "        print(b)\n",
    "    print(\"Result of division double matrixs: \")\n",
    "    for c in E:\n",
    "        print(c)"
   ]
  },
  {
   "cell_type": "markdown",
   "metadata": {},
   "source": [
    "## ADD, SUB, DIV TWO MATRIXS USING LIBRARY IN PYTHON"
   ]
  },
  {
   "cell_type": "code",
   "execution_count": 13,
   "metadata": {},
   "outputs": [
    {
     "name": "stdout",
     "output_type": "stream",
     "text": [
      "Matrix 1\n",
      "[[8.0, 5.0, 9.0], [2.0, 5.0, 7.0], [9.0, 8.0, 7.0]]\n",
      "Matrix 2\n",
      "[[1.0, 4.0, 5.0], [6.0, 4.0, 3.0], [8.0, 5.0, 9.0]]\n",
      "Result sum matrix: \n",
      "[[ 9.  9. 14.]\n",
      " [ 8.  9. 10.]\n",
      " [17. 13. 16.]]\n",
      "Result sub matrix: \n",
      "[[ 7.  1.  4.]\n",
      " [-4.  1.  4.]\n",
      " [ 1.  3. -2.]]\n",
      "Result div matrix: \n",
      "[[8. 1. 1.]\n",
      " [0. 1. 2.]\n",
      " [1. 1. 0.]]\n",
      "Result mul each elemrnt of matrix: \n",
      "[[ 8. 20. 45.]\n",
      " [12. 20. 21.]\n",
      " [72. 40. 63.]]\n"
     ]
    }
   ],
   "source": [
    "import numpy as np\n",
    "print(\"Matrix 1\")\n",
    "row_1 = int(input(\"Input number row of matrix 1: \"))\n",
    "column_1 = int(input(\"Input number column of matrix 1: \"))\n",
    "matrix_1 = []\n",
    "for i in range(row_1):\n",
    "    a = list(map(float, input(f\"Input each variable row {i + 1} of matrix 1: \").split()))\n",
    "    matrix_1.append(a)\n",
    "    a = np.array(matrix_1)\n",
    "print(matrix_1)\n",
    "print(\"Matrix 2\")\n",
    "row_2 = int(input(\"Input number row of matrix 2: \"))\n",
    "column_2 = int(input(\"Input number column of matrix 2: \"))\n",
    "matrix_2 = []\n",
    "if row_1 == row_2 and column_1 == column_2:\n",
    "    for j in range(row_2):\n",
    "        b = list(map(float, input(f\"Input each variable row {j + 1} of matrix 2: \").split()))\n",
    "        matrix_2.append(b)\n",
    "    b = np.array(matrix_2)\n",
    "    print(matrix_2)\n",
    "    sum = a + b\n",
    "    sub = a - b\n",
    "    div = a // b\n",
    "    mul_e = a * b # Mul each elementt\n",
    "    print(\"Result sum matrix: \")\n",
    "    print(sum)\n",
    "    print(\"Result sub matrix: \")\n",
    "    print(sub)\n",
    "    print(\"Result div matrix: \")\n",
    "    print(div)\n",
    "    print(\"Result mul each elemrnt of matrix: \")\n",
    "    print(mul_e)\n",
    "else:\n",
    "    print(\"Can not calculator!\")"
   ]
  },
  {
   "cell_type": "markdown",
   "metadata": {},
   "source": [
    "## DIAGONAL MATRIX "
   ]
  },
  {
   "cell_type": "code",
   "execution_count": 35,
   "metadata": {},
   "outputs": [
    {
     "name": "stdout",
     "output_type": "stream",
     "text": [
      "Matrix: \n",
      "[3.0, 0.0]\n",
      "[0.0, 8.0]\n",
      "Matrix is diagonal\n",
      "Matrix A^k: \n",
      "[9.0, 0.0]\n",
      "[0.0, 64.0]\n"
     ]
    }
   ],
   "source": [
    "print(\"Matrix: \")\n",
    "rows = int(input(\"Enter number of row in matrix: \"))\n",
    "columns = int(input(\"Enter number of column in matrix: \"))\n",
    "k = int(input(\"Enter number k: \"))\n",
    "if rows != columns:\n",
    "    print(\"Must be square matrix!\")\n",
    "else:\n",
    "    A = []\n",
    "    for row in range(rows):\n",
    "        a = list(map(float, input(f\"Enter each variable row {row +1} in matrix: \").split()))\n",
    "        A.append(a)\n",
    "    for i in A:\n",
    "        print(i)\n",
    "    is_diagonal= True\n",
    "    for i in range(rows):\n",
    "        for j in range(columns):\n",
    "            if i != j and A[i][j] != 0:\n",
    "                is_diagonal = False\n",
    "                break\n",
    "        if not is_diagonal:\n",
    "            break\n",
    "    C = [[A[i][j] ** k for j in range(columns)] for i in range(rows)]\n",
    "    if is_diagonal:\n",
    "        print(\"Matrix is diagonal\")\n",
    "        print(\"Matrix A^k: \")\n",
    "        for i in C:\n",
    "            print(i)\n",
    "\n",
    "    else:\n",
    "        print(\"Matrix is not diagonal\")\n",
    "\n",
    "        \n"
   ]
  },
  {
   "cell_type": "markdown",
   "metadata": {},
   "source": [
    "## DIAGONAL MATRIX USING LIBRARY IN PYTHON"
   ]
  },
  {
   "cell_type": "code",
   "execution_count": 2,
   "metadata": {},
   "outputs": [
    {
     "name": "stdout",
     "output_type": "stream",
     "text": [
      "Matrix: \n",
      "[[1. 0. 0.]\n",
      " [0. 4. 0.]\n",
      " [0. 0. 9.]]\n",
      "Matrix is diagonal\n",
      "Matrix A^k: \n",
      "[1.0, 0.0, 0.0]\n",
      "[0.0, 64.0, 0.0]\n",
      "[0.0, 0.0, 729.0]\n"
     ]
    }
   ],
   "source": [
    "import numpy as np\n",
    "print(\"Matrix: \")\n",
    "rows = int(input(\"Enter number of row in matrix: \"))\n",
    "columns = int(input(\"Enter number of column in matrix: \"))\n",
    "k = int(input(\"Enter number k: \"))\n",
    "if rows != columns:\n",
    "    print(\"Must be square matrix!\")\n",
    "else:\n",
    "    A = []\n",
    "    for row in range(rows):\n",
    "        a = list(map(float, input(f\"Enter each variable row {row +1} in matrix: \").split()))\n",
    "        A.append(a)\n",
    "    matrix = np.array(A)\n",
    "    print(matrix)\n",
    "    is_diagonal= True\n",
    "    for i in range(rows):\n",
    "        for j in range(columns):\n",
    "            if i != j and A[i][j] != 0:\n",
    "                is_diagonal = False\n",
    "                break\n",
    "        if not is_diagonal:\n",
    "            break\n",
    "    C = [[A[i][j] ** k for j in range(columns)] for i in range(rows)]\n",
    "    if is_diagonal:\n",
    "        print(\"Matrix is diagonal\")\n",
    "        print(\"Matrix A^k: \")\n",
    "        for i in C:\n",
    "            print(i)\n",
    "\n",
    "    else:\n",
    "        print(\"Matrix is not diagonal\")\n"
   ]
  },
  {
   "cell_type": "markdown",
   "metadata": {},
   "source": [
    "## FIND CONDITION FOR THE MATRIX TO BE INVERTED"
   ]
  },
  {
   "cell_type": "code",
   "execution_count": 1,
   "metadata": {},
   "outputs": [
    {
     "name": "stdout",
     "output_type": "stream",
     "text": [
      "Matrix A: \n",
      "Matrix([[m + 1, 1, 3], [2, m + 2, 0], [2*m, 1, 3]])\n",
      "The values of m so that matrix A is not reversible are: [-2, 1]\n"
     ]
    }
   ],
   "source": [
    "from sympy import Matrix, symbols, solve\n",
    "m = symbols('m')\n",
    "A = Matrix([[m + 1, 1, 3], [2, m + 2, 0], [2* m, 1, 3]])\n",
    "print(\"Matrix A: \")\n",
    "print(A)\n",
    "det_a = A.det()\n",
    "solution = solve(det_a, m)\n",
    "print(\"The values of m so that matrix A is not reversible are:\", solution)"
   ]
  },
  {
   "cell_type": "markdown",
   "metadata": {},
   "source": [
    "## CHAPTER 2\n"
   ]
  },
  {
   "cell_type": "markdown",
   "metadata": {},
   "source": [
    "## RANK OF MATRIX WITHOUT USING LIBRARY IN PYTHON"
   ]
  },
  {
   "cell_type": "code",
   "execution_count": null,
   "metadata": {},
   "outputs": [
    {
     "name": "stdout",
     "output_type": "stream",
     "text": [
      "Matrix:\n",
      "[1.0, 2.0, 3.0]\n",
      "[4.0, 5.0, 6.0]\n",
      "[7.0, 8.0, 9.0]\n",
      "Rank of matrix is: 2\n"
     ]
    }
   ],
   "source": [
    "def rank_matrix():\n",
    "    print(\"Matrix:\")\n",
    "    rows = int(input(\"Enter the number of row in matrix: \"))\n",
    "    columns = int(input(\"Enter the number of column in matrix: \"))\n",
    "    matrix = []\n",
    "    for i in range(rows):\n",
    "        a = list(map(float, input(f\"Enter each element of row {i + 1} in matrix: \").split()))\n",
    "        matrix.append(a)\n",
    "    for row in matrix:\n",
    "        print(row)\n",
    "\n",
    "    rank = 0\n",
    "    epsilon = 1e-10\n",
    "    for col in range(columns):\n",
    "        pivot_row = None\n",
    "        for r in range(rank, rows):\n",
    "            if abs(matrix[r][col]) > epsilon:\n",
    "                pivot_row = r\n",
    "                break\n",
    "        if pivot_row is None:\n",
    "            continue\n",
    "        matrix[rank], matrix[pivot_row] = matrix[pivot_row], matrix[rank]\n",
    "        pivot_value = matrix[rank][col]\n",
    "        for r in range(rank + 1, rows):\n",
    "            factor = matrix[r][col] / pivot_value\n",
    "            matrix[r][col] = 0.0\n",
    "            for c in range(col + 1, columns):\n",
    "                matrix[r][c] -= factor * matrix[rank][c]\n",
    "        rank += 1\n",
    "    return rank\n",
    "\n",
    "print(f\"Rank of matrix is: {rank_matrix()}\")"
   ]
  },
  {
   "cell_type": "markdown",
   "metadata": {},
   "source": [
    "## RANK OF MATRIX USING LIBRARY IN PYTHON"
   ]
  },
  {
   "cell_type": "code",
   "execution_count": null,
   "metadata": {},
   "outputs": [
    {
     "name": "stdout",
     "output_type": "stream",
     "text": [
      "Matrix: \n",
      "[[1 0 2 1]\n",
      " [2 2 1 2]\n",
      " [0 2 0 1]\n",
      " [1 0 1 0]]\n",
      "Rank of matrix: 4\n"
     ]
    }
   ],
   "source": [
    "import numpy as np\n",
    "def matrix_rank():\n",
    "    matrix = []\n",
    "    row = int(input(\"Enter the number of row in matrix: \"))\n",
    "    column = int(input(\"Enter the number of column in matrix: \"))\n",
    "    for i in range(row):\n",
    "        a = list(map(int, input(f\"Enter each variable row {i + 1} of matrix: \").split()))\n",
    "        matrix.append(a)\n",
    "    matrix = np.array(matrix)\n",
    "    print(\"Matrix: \")\n",
    "    print(matrix)\n",
    "    _, singular_values, _ = np.linalg.svd(matrix)\n",
    "    tolerance = max(matrix.shape) *np.finfo(singular_values.dtype).eps\n",
    "    rank = np.sum(singular_values > tolerance)\n",
    "    return rank\n",
    "\n",
    "print(f\"Rank of matrix: {matrix_rank()}\")\n"
   ]
  },
  {
   "cell_type": "markdown",
   "metadata": {},
   "source": [
    "## IN R^ 4:\n",
    "## B = {v1 = (1, 1, 1, 1), v2 = (0, 1, 1, 1), v3 = (1, 0, 1, 1), v4 = (1, 1, 0, 1)};\n",
    "## S = {s1 = (1, 1, 0, 0), s2 = (0, 1, 1, 0), s3 = (0, 0, 1, 1), s4 = (1, 0, 0, 0)};\n",
    "## (1) Prove that S and B are bases of R^ 4\n",
    "## (2) Find matrix convert B to S\n",
    "## (3) Find the coordinates of vector: u in basis B, knowing (u)s = (1, -2, 3, -4)."
   ]
  },
  {
   "cell_type": "code",
   "execution_count": null,
   "metadata": {},
   "outputs": [
    {
     "name": "stdout",
     "output_type": "stream",
     "text": [
      "B is a base of R^4\n",
      "S is a base of R^4\n",
      "\n",
      "Matrix converting from B to S (P_B_to_S):\n",
      "[1.0, 1.0, 0.0, 1.0]\n",
      "[0.0, 0.0, 1.0, 0.0]\n",
      "[0.0, 1.0, 0.0, 1.0]\n",
      "[1.0, -1.0, 1.0, 0.0]\n",
      "\n",
      "Coordinates of vector u in basis B:\n",
      "[-2.0, 0.0, -2.0, 3.0]\n"
     ]
    }
   ],
   "source": [
    "def det(matrix):\n",
    "    n = len(matrix)\n",
    "    if n == 1:\n",
    "        return matrix[0][0]\n",
    "    elif n == 2:\n",
    "        return matrix[0][0] * matrix[1][1] - matrix[0][1] * matrix[1][0]\n",
    "    else:\n",
    "        det_a = 0\n",
    "        for column in range(n):\n",
    "            sub_matrix = [row[:column] + row[column + 1:] for row in matrix[1:]]\n",
    "            det_a += ((-1) ** column) * matrix[0][column] * det(sub_matrix)\n",
    "        return det_a\n",
    "    \n",
    "def inverse_matrix(matrix):\n",
    "    row = len(matrix)\n",
    "    det_inv_matrix = det(matrix)\n",
    "    if row == len(matrix[0]) and det_inv_matrix != 0:\n",
    "        C = [[0 for _ in range(row)] for _ in range(row)]\n",
    "        for i in range(row):\n",
    "            for j in range(row):\n",
    "                sub_matrix = [r[:j] + r[j+1:] for r in (matrix[:i] + matrix[i+1:])]\n",
    "                sub_det = det(sub_matrix)\n",
    "                C[i][j] = ((-1) ** (i + j)) * sub_det\n",
    "\n",
    "        D = [[C[j][i] for j in range(row)] for i in range(row)]\n",
    "        inverse = [[D[i][j] / det_inv_matrix for j in range(row)] for i in range(row)]\n",
    "        return inverse\n",
    "    else:\n",
    "        raise ValueError(\"Matrix is not invertible.\")\n",
    "B = [[1, 1, 1, 1], \n",
    "     [0, 1, 1, 1], \n",
    "     [1, 0, 1, 1], \n",
    "     [1, 1, 0, 1]]\n",
    "\n",
    "S = [[1, 1, 0, 0], \n",
    "     [0, 1, 1, 0], \n",
    "     [0, 0, 1, 1], \n",
    "     [1, 0, 0, 0]]\n",
    "#(1) Prove that S and B are bases of R^ 4\n",
    "if det(B) == 0:\n",
    "    print(\"B is not a base of R^4\")\n",
    "else:\n",
    "    print(\"B is a base of R^4\")\n",
    "if det(S) == 0:\n",
    "    print(\"S is not a base of R^4\")\n",
    "else:\n",
    "    print(\"S is a base of R^4\")\n",
    "\n",
    "#(2) Find matrix convert B to S\n",
    "S_inv = inverse_matrix(S)\n",
    "P_B_to_S = [[sum(S_inv[i][k] * B[k][j] for k in range(len(B))) for j in range(len(B[0]))] for i in range(len(S_inv))]\n",
    "print(\"\\nMatrix converting from B to S (P_B_to_S):\")\n",
    "for row in P_B_to_S:\n",
    "    print(row)\n",
    "\n",
    "# (3) Find the coordinates of vector: u in basis B, knowing (u)s = (1, -2, 3, -4).\n",
    "def find_coordinates(P_inv, u_S):\n",
    "    n = len(P_inv)\n",
    "    return [sum(P_inv[i][j] * u_S[j] for j in range(n)) for i in range(n)]\n",
    "u_S = [1, -2, 3, -4]\n",
    "P_S_to_B = inverse_matrix(P_B_to_S)\n",
    "u_B = find_coordinates(P_S_to_B, u_S)\n",
    "\n",
    "print(\"\\nCoordinates of vector u in basis B:\")\n",
    "print(u_B)\n"
   ]
  },
  {
   "cell_type": "markdown",
   "metadata": {},
   "source": [
    "## MA TRẬN XOAY Ở MỘT GÓC BẤT KÌ TRÊN PYTHON, DUNG CÔNG THỨC LƯỢNG GIÁC\n",
    "I = (0,1), J = (1, 0)"
   ]
  },
  {
   "cell_type": "code",
   "execution_count": null,
   "metadata": {},
   "outputs": [
    {
     "name": "stderr",
     "output_type": "stream",
     "text": [
      "C:\\Users\\voanh\\AppData\\Local\\Temp\\ipykernel_6892\\2804029459.py:37: UserWarning: No artists with labels found to put in legend.  Note that artists whose label start with an underscore are ignored when legend() is called with no argument.\n",
      "  ax.legend()\n"
     ]
    },
    {
     "data": {
      "image/png": "[encoded data removed]",
      "text/plain": [
       "<Figure size 600x600 with 1 Axes>"
      ]
     },
     "metadata": {},
     "output_type": "display_data"
    }
   ],
   "source": [
    "import matplotlib.pyplot as plt\n",
    "from math import cos, sin, radians\n",
    "import numpy as np\n",
    "\n",
    "# Initialize vector to rotate clockwise\n",
    "angle = int(input(\"Enter the angle want to rotate: \"))\n",
    "rad = radians(angle)  # đổi sang radian\n",
    "\n",
    "# Basis vector\n",
    "v = np.array([1, 1])\n",
    "\n",
    "# Initialize the matrix to rotate the vector clockwise\n",
    "rotation_matrix = np.array([[cos(rad), sin(rad)], [-sin(rad), cos(rad)]])\n",
    "\n",
    "# Vector was rotated\n",
    "v_rotated = np.dot(rotation_matrix, v)\n",
    "\n",
    "fig, ax = plt.subplots(figsize=(6, 6)) # Size of table to show result\n",
    "ax.set_xlim(-3, 3)\n",
    "ax.set_ylim(-3, 3)\n",
    "ax.set_xticks(np.arange(-3, 3.5, 0.5))\n",
    "ax.set_yticks(np.arange(-3, 3.5, 0.5))\n",
    "ax.grid(True, linestyle=\":\", linewidth=0.5)\n",
    "ax.axhline(0, color='black', linewidth=0.5)\n",
    "ax.axvline(0, color='black', linewidth=0.5)\n",
    "\n",
    "# Draw basis vector\n",
    "ax.plot([0, v[0]], [0, v[1]], color='blue')\n",
    "ax.plot([v[0], v[0]], [v[1], 0], color='red', linestyle=\"--\")\n",
    "ax.plot([0, v[0]], [v[1], v[1]], color='red', linestyle=\"--\")\n",
    "# Draw vector was rotated\n",
    "ax.plot([0, v_rotated[0]], [0, v_rotated[1]], color='green')\n",
    "\n",
    "plt.show()\n"
   ]
  },
  {
   "cell_type": "markdown",
   "metadata": {},
   "source": [
    "## FIND EIGENVALUES WITHOUT USE LIBRARY IN PYTHON"
   ]
  },
  {
   "cell_type": "code",
   "execution_count": null,
   "metadata": {},
   "outputs": [
    {
     "name": "stdout",
     "output_type": "stream",
     "text": [
      "Matrix: \n",
      "[2, -1]\n",
      "[-1, 2]\n",
      "Private treatment of matrix: [1, 3]\n"
     ]
    }
   ],
   "source": [
    "from sympy import Matrix, symbols, solve\n",
    "def calculate_det(a):\n",
    "    n = len(a)\n",
    "    if n == 1:\n",
    "        return a[0][0]\n",
    "    elif n == 2:\n",
    "        return a[0][0]*a[1][1] - a[0][1]*a[1][0]\n",
    "    else:\n",
    "        det_a = 0\n",
    "        for column in range(n):\n",
    "            sub_matrix = [row[:column] + row[column+1:] for row in a[1:]]\n",
    "            det_a += ((-1) ** column) * a[0][column] * calculate_det(sub_matrix)\n",
    "        return det_a\n",
    "rows = int(input(\"Enter the number of rows: \"))\n",
    "columns = int(input(\"Enter the number of columns: \"))\n",
    "if rows != columns:\n",
    "    print(\"Error: Matrix must be square!\")\n",
    "    exit()\n",
    "A = []\n",
    "for i in range(rows):\n",
    "    a = list(map(int, input(f\"Enter the variable of row {i + 1}: \").split()))\n",
    "    A.append(a)\n",
    "print(\"Matrix: \")\n",
    "for i in A:\n",
    "    print(i)\n",
    "x = symbols(\"x\")\n",
    "A_char = []\n",
    "for i in range(rows):\n",
    "    row_char = []\n",
    "    for j in range(columns):\n",
    "        if i == j:\n",
    "            row_char.append(A[i][j] - x)\n",
    "        else:\n",
    "            row_char.append((A[i][j]))\n",
    "    A_char.append(row_char)\n",
    "det_char = calculate_det(A_char)\n",
    "private = solve(det_char, x)\n",
    "print(f\"Private treatment of matrix: {private}\")\n",
    "            \n",
    "               "
   ]
  },
  {
   "cell_type": "markdown",
   "metadata": {},
   "source": [
    "## FIND EIGENVALUES USE LIBRARY IN PYTHON"
   ]
  },
  {
   "cell_type": "code",
   "execution_count": 6,
   "metadata": {},
   "outputs": [
    {
     "name": "stdout",
     "output_type": "stream",
     "text": [
      "Matrix: \n",
      " [[2, -1], [-1, 2]]\n",
      "Eigenvalues is: \n",
      "[3. 1.]\n"
     ]
    }
   ],
   "source": [
    "import numpy as np\n",
    "matrix = [[2, -1], [-1, 2]]\n",
    "eigenvalues = np.linalg.eigvals(matrix)\n",
    "print(f\"Matrix: \\n {matrix}\")\n",
    "print(\"Eigenvalues is: \")\n",
    "print(eigenvalues)"
   ]
  },
  {
   "cell_type": "markdown",
   "metadata": {},
   "source": [
    "## Trong ℝ ,bằng quá trình Gram-Smidt hãy trực chuẩn hóa hệ véc tơ:\n",
    "## 𝐵={𝑣 = 1,−1,1 ,𝑣 =−1,1,1 ,𝑣 =(1,1,−1)}.\n"
   ]
  },
  {
   "cell_type": "code",
   "execution_count": null,
   "metadata": {},
   "outputs": [
    {
     "name": "stdout",
     "output_type": "stream",
     "text": [
      "Normalization vector is: \n",
      "[[ 0.57735027 -0.40824829  0.70710678]\n",
      " [-0.57735027  0.40824829  0.70710678]\n",
      " [ 0.57735027  0.81649658  0.        ]]\n"
     ]
    }
   ],
   "source": [
    "import numpy as np\n",
    "def gram_schmidt(v):\n",
    "    v = np.array(v, dtype=np.float64)\n",
    "    m, n = v.shape\n",
    "    u = []\n",
    "    for i in range(n):\n",
    "        u_i = v[:, i]\n",
    "        for u_j in u:\n",
    "            proj = (np.dot(u_j, u_i) / np.dot(u_j, u_j) * u_j)\n",
    "            u_i = u_i - proj\n",
    "        norm_u_i = np.linalg.norm(u_i)\n",
    "        if norm_u_i > 1e-10:\n",
    "            u.append(u_i / norm_u_i)\n",
    "    return np.array(u)\n",
    "num_vector = int(input(\"Enter the number of vector: \"))\n",
    "vector_dim = int(input(\"Enter the d of vector: \"))\n",
    "vectors = []\n",
    "for i in range(num_vector):\n",
    "    while True:\n",
    "        vector = list(map(int, input(f\"Enter the variable of vector {i+1}: \").split()))\n",
    "        if len(vector) != vector_dim:\n",
    "            print(\"Enrol can not calculate\")\n",
    "        else:\n",
    "            break\n",
    "    vectors.append(vector)\n",
    "v = np.array(vectors).T\n",
    "u = gram_schmidt(v)\n",
    "print(\"Normalization vector is: \")\n",
    "print(u.T)"
   ]
  },
  {
   "cell_type": "markdown",
   "metadata": {},
   "source": [
    "## CODE MA TRẬN XÁC ĐỊNH ÂM, XÁC ĐỊNH DƯƠNG, BÁN XÁC ĐỊNH ÂM, BÁN XÁC ĐỊNH DƯƠNG KHÔNG DÙNG THƯ VIỆN TRONG PYTHON"
   ]
  },
  {
   "cell_type": "code",
   "execution_count": 20,
   "metadata": {},
   "outputs": [
    {
     "name": "stdout",
     "output_type": "stream",
     "text": [
      "Positive define matrix\n"
     ]
    }
   ],
   "source": [
    "from sympy import symbols, solve\n",
    "\n",
    "def calculate_det(a):\n",
    "    n = len(a)\n",
    "    if n == 1:\n",
    "        return a[0][0]\n",
    "    elif n == 2:\n",
    "        return a[0][0]*a[1][1] - a[0][1]*a[1][0]\n",
    "    else:\n",
    "        det_a = 0\n",
    "        for column in range(n):\n",
    "            sub_matrix = [row[:column] + row[column+1:] for row in a[1:]]\n",
    "            det_a += ((-1) ** column) * a[0][column] * calculate_det(sub_matrix)\n",
    "        return det_a\n",
    "\n",
    "rows = int(input(\"Enter the number of row: \"))\n",
    "columns = int(input(\"Enter the number of columns: \"))\n",
    "\n",
    "C = [[0 for _ in range(columns)] for _ in range(rows)]\n",
    "A = []\n",
    "for i in range(rows):\n",
    "    a = list(map(int, input(f\"Enter the variable of row {i + 1}: \").split()))\n",
    "    A.append(a)\n",
    "for i in range(rows):\n",
    "    for j in range(columns):\n",
    "        C[i][j] = A[j][i]\n",
    "\n",
    "symmetric = True\n",
    "for i in range(rows):\n",
    "    for j in range(columns):\n",
    "        if A[i][j] != C[i][j]:\n",
    "            symmetric = False\n",
    "            break\n",
    "if not symmetric:\n",
    "    print(\"Matrix not symmetry\")\n",
    "else:\n",
    "    x = symbols(\"x\")\n",
    "    A_char = []\n",
    "    for i in range(rows):\n",
    "        row_char = []\n",
    "        for j in range(columns):\n",
    "            if i == j:\n",
    "                row_char.append(A[i][j] - x)\n",
    "            else:\n",
    "                row_char.append(A[i][j])\n",
    "        A_char.append(row_char)\n",
    "    det_char = calculate_det(A_char)\n",
    "\n",
    "    private = solve(det_char, x)\n",
    "\n",
    "    if all(p > 0 for p in private):\n",
    "        print(\"Positive define matrix\")\n",
    "    elif all(p < 0 for p in private):\n",
    "        print(\"Negative define matrix\")\n",
    "    elif all(p >= 0 for p in private):\n",
    "        print(\"Positive semi-define matrix\")\n",
    "    elif all(p <= 0 for p in private):\n",
    "        print(\"Negative semi-define matrix\")\n",
    "    else:\n",
    "        print(\"Can not define\")\n"
   ]
  },
  {
   "cell_type": "markdown",
   "metadata": {},
   "source": [
    "## CODE MA TRẬN XÁC ĐỊNH ÂM, XÁC ĐỊNH DƯƠNG, BÁN XÁC ĐỊNH ÂM, BÁN XÁC ĐỊNH DƯƠNG DÙNG THƯ VIỆN TRONG PYTHON"
   ]
  },
  {
   "cell_type": "code",
   "execution_count": 18,
   "metadata": {},
   "outputs": [
    {
     "name": "stdout",
     "output_type": "stream",
     "text": [
      "MAtrix: \n",
      "[[2 1]\n",
      " [1 2]]\n",
      "Positive define matrix\n"
     ]
    }
   ],
   "source": [
    "import numpy as np\n",
    "def classify_matrix(matrix: np.ndarray) -> str:\n",
    "    if not np.allclose(matrix, matrix.T):\n",
    "        return \"Matrix not symmetry\"\n",
    "    eigenvalues = np.linalg.eigvals(matrix)\n",
    "    if np.all(eigenvalues > 0):\n",
    "        return \"Positive define matrix\"\n",
    "    elif np.all(eigenvalues < 0):\n",
    "        return \"Negative define matrix\"\n",
    "    elif np.all(eigenvalues >= 0):\n",
    "        return \"Positive semi-define matrix\"\n",
    "    elif np.all(eigenvalues <= 0):\n",
    "        return \"Negative semi-define matrix\"\n",
    "    else:\n",
    "        return \"Can not define\"\n",
    "rows = int(input(\"Enter the number of row: \"))\n",
    "columns = int(input(\"Enter the number of columns: \"))\n",
    "A = []\n",
    "for i in range(rows):\n",
    "    a = list(map(int, input(f\"Enter each variable for row {i+1}: \").split()))\n",
    "    A.append(a)\n",
    "matrix = np.array(A)\n",
    "print(\"MAtrix: \")\n",
    "print(matrix)\n",
    "print(classify_matrix(matrix))"
   ]
  },
  {
   "cell_type": "markdown",
   "metadata": {},
   "source": [
    "## KER, LM"
   ]
  },
  {
   "cell_type": "code",
   "execution_count": null,
   "metadata": {},
   "outputs": [
    {
     "name": "stdout",
     "output_type": "stream",
     "text": [
      "Kernel (Null space):\n",
      "[[-0.89442719]\n",
      " [ 0.4472136 ]]\n",
      "Image (Column space):\n",
      "[[-0.26726124]\n",
      " [-0.53452248]\n",
      " [-0.80178373]]\n"
     ]
    }
   ],
   "source": [
    "import numpy as np\n",
    "from scipy.linalg import null_space\n",
    "\n",
    "A = np.array([[1, 2],\n",
    "              [2, 4],\n",
    "              [3, 6]])\n",
    "\n",
    "# ker()\n",
    "ker = null_space(A)\n",
    "print(\"Kernel (Null space):\")\n",
    "print(ker)\n",
    "\n",
    "# lm()\n",
    "u, s, vh = np.linalg.svd(A)\n",
    "image = u[:, :np.linalg.matrix_rank(A)]\n",
    "print(\"Image (Column space):\")\n",
    "print(image)\n"
   ]
  },
  {
   "cell_type": "markdown",
   "metadata": {},
   "source": [
    "## CHAPTER 3"
   ]
  },
  {
   "cell_type": "markdown",
   "metadata": {},
   "source": []
  },
  {
   "cell_type": "markdown",
   "metadata": {},
   "source": [
    "## ĐẠO HÀM"
   ]
  },
  {
   "cell_type": "markdown",
   "metadata": {},
   "source": [
    "## CÔNG THỨC ĐẠO HÀM TỔNG QUÁT"
   ]
  },
  {
   "cell_type": "code",
   "execution_count": 21,
   "metadata": {},
   "outputs": [
    {
     "name": "stdout",
     "output_type": "stream",
     "text": [
      "1.00000000000000\n",
      "1.00000000000000\n",
      "1.00000000000000\n",
      "nan\n"
     ]
    }
   ],
   "source": [
    "from sympy import symbols, solve\n",
    "x = symbols(\"x\")\n",
    "for i in [0.01, 0.009, 0.008, 0]:\n",
    "    fx = (((x+i) -x) / i)\n",
    "\n",
    "    print(fx) "
   ]
  },
  {
   "cell_type": "markdown",
   "metadata": {},
   "source": [
    "## CÔNG THỨC ĐẠO HÀM BẰNG THƯ VIỆN CỦA PYTHON\n"
   ]
  },
  {
   "cell_type": "code",
   "execution_count": 3,
   "metadata": {},
   "outputs": [
    {
     "name": "stdout",
     "output_type": "stream",
     "text": [
      "5*x**3 + 6*x**2 + 1\n",
      "Đạo hàm: 15*x**2 + 12*x\n"
     ]
    }
   ],
   "source": [
    "from sympy import solve, symbols, sympify, diff\n",
    "x = symbols('x')\n",
    "f = sympify(\"5*x^3 + 6*x^2 + 1\")\n",
    "dao_ham = diff(f, x, 1)\n",
    "print(f)\n",
    "print(f\"Đạo hàm: {dao_ham}\")"
   ]
  },
  {
   "cell_type": "markdown",
   "metadata": {},
   "source": [
    "## THUẬT TOÁN GRAM-SMIDT"
   ]
  },
  {
   "cell_type": "code",
   "execution_count": null,
   "metadata": {},
   "outputs": [
    {
     "name": "stdout",
     "output_type": "stream",
     "text": [
      "Matrix truc chuan: \n",
      "[[ 0.26726124  0.53452248  0.80178373]\n",
      " [ 0.87287156  0.21821789 -0.43643578]\n",
      " [ 0.93704257  0.15617376 -0.31234752]]\n"
     ]
    }
   ],
   "source": [
    "import math\n",
    "import numpy as np\n",
    "\n",
    "A = [[1, 2, 3], [4, 5, 6], [7, 8, 9]]\n",
    "matrix = np.array(A)\n",
    "rows = len(A)\n",
    "columns = len(A[0])\n",
    "v1 = matrix[0]\n",
    "v2 = matrix[1]\n",
    "v3 = matrix[2]\n",
    "matrix_truc_chuan = []\n",
    "#U1\n",
    "do_dai_u1 = 0\n",
    "for i in range(columns): \n",
    "    do_dai_u1 += matrix[0][i] ** 2 \n",
    "u1 = [v1 / math.sqrt(do_dai_u1)] \n",
    "matrix_truc_chuan.append(u1[0])   \n",
    "\n",
    "#U2\n",
    "tich_vo_huong_u1_v2 = 0\n",
    "for i in range(columns):  \n",
    "    tich_vo_huong_u1_v2 += u1[0][i] * v2[i]  \n",
    "t = -(tich_vo_huong_u1_v2)\n",
    "u2_phay = t * u1[0] + v2 \n",
    "do_dai_u2 = 0\n",
    "for i in range(columns):\n",
    "    do_dai_u2 += u2_phay[i] ** 2  \n",
    "u2 = u2_phay / math.sqrt(do_dai_u2)  \n",
    "matrix_truc_chuan.append(u2)\n",
    "\n",
    "#U3\n",
    "tich_vo_huong_u1_v3 = 0\n",
    "for i in range(columns):\n",
    "    tich_vo_huong_u1_v3 += u1[0][i] * v3[i]\n",
    "a = -(tich_vo_huong_u1_v3)\n",
    "\n",
    "tich_vo_huong_u2_v3 = 0\n",
    "for i in range(columns):\n",
    "    tich_vo_huong_u2_v3 += u2[i] * v3[i]  \n",
    "b = -(tich_vo_huong_u2_v3)\n",
    "\n",
    "u3_phay = a * u1[0] + b * u2 + v3\n",
    "do_dai_u3 = 0\n",
    "for i in range(columns):\n",
    "    do_dai_u3 += u3_phay[i] ** 2  \n",
    "u3 = [u3_phay / math.sqrt(do_dai_u3)] \n",
    "matrix_truc_chuan.append(u3[0])  \n",
    "\n",
    "matrix_truc_chuan = np.array(matrix_truc_chuan)\n",
    "print(\"Matrix truc chuan: \")\n",
    "print(matrix_truc_chuan)\n"
   ]
  },
  {
   "cell_type": "markdown",
   "metadata": {},
   "source": [
    "## TAYLOR"
   ]
  },
  {
   "cell_type": "code",
   "execution_count": 25,
   "metadata": {},
   "outputs": [
    {
     "name": "stdout",
     "output_type": "stream",
     "text": [
      "0.05000000000000001\n"
     ]
    }
   ],
   "source": [
    "from sympy import symbols, sympify, diff\n",
    "def factorial(n):\n",
    "    return 1 if n <= 1 else n* factorial(n-1)\n",
    "x = symbols(\"x\")\n",
    "f_x = sympify(5*(x**2))\n",
    "def dao_ham_cap_n(n):\n",
    "    dao_ham = diff(f_x, x, n)\n",
    "    return dao_ham\n",
    "x = float(input(\"Enter the number x: \"))\n",
    "result = 5*(x**2)\n",
    "n = int(input(\"Enter the number want to dao_ham stop: \"))\n",
    "def f(f_x):\n",
    "    result += (dao_ham_cap_n(f_x) / factorial(n)) * (x ** n)\n",
    "print(result)"
   ]
  }
 ],
 "metadata": {
  "kernelspec": {
   "display_name": "new_venv",
   "language": "python",
   "name": "python3"
  },
  "language_info": {
   "codemirror_mode": {
    "name": "ipython",
    "version": 3
   },
   "file_extension": ".py",
   "mimetype": "text/x-python",
   "name": "python",
   "nbconvert_exporter": "python",
   "pygments_lexer": "ipython3",
   "version": "3.10.11"
  }
 },
 "nbformat": 4,
 "nbformat_minor": 2
}
