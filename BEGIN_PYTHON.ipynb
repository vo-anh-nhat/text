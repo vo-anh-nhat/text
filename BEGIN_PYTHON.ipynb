{
 "cells": [
  {
   "cell_type": "markdown",
   "metadata": {},
   "source": [
    "## NHẬP MỘT DÃY CÁCH NHAU BỠI DẤU PHẨY"
   ]
  },
  {
   "cell_type": "code",
   "execution_count": null,
   "metadata": {
    "vscode": {
     "languageId": "plaintext"
    }
   },
   "outputs": [],
   "source": [
    "a = input(\"Nhập dãy:\")\n",
    "b = \", \".join(a)\n",
    "print(f\"chuỗi: {b}\")"
   ]
  },
  {
   "cell_type": "markdown",
   "metadata": {},
   "source": [
    "## SỐ LỚN HƠN 0"
   ]
  },
  {
   "cell_type": "code",
   "execution_count": null,
   "metadata": {
    "vscode": {
     "languageId": "plaintext"
    }
   },
   "outputs": [],
   "source": [
    "# khai báo để sử dụng numpy\n",
    "import numpy\n",
    "number = list(map(int, input(\"Enter number: \").split())) \n",
    "n = []\n",
    "for i in number:\n",
    "    if i > 0:\n",
    "        n.append(i)\n",
    "# if there are numbers in n\n",
    "if n:\n",
    "    # prints the number greater than 0 among the entered numbers\n",
    "    print(f\"Integer greater than  0 in {number}: {n}\")\n",
    "else:\n",
    "    #If there is no integer greater than 0, print none\n",
    "    print(\"There is no greater than 0\")"
   ]
  },
  {
   "cell_type": "markdown",
   "metadata": {},
   "source": [
    "## CHUỖI KHÔNG CHỨA DẤU PHẨY"
   ]
  },
  {
   "cell_type": "code",
   "execution_count": null,
   "metadata": {
    "vscode": {
     "languageId": "plaintext"
    }
   },
   "outputs": [],
   "source": [
    "import re #re là thư viện đùng để làm việc với biểu thức chính quy, cho phép thao tác với các chuỗi phức tạp\n",
    "\n",
    "s = \"Cho em,       xin? them.        bai           tap  \"\n",
    "a = re.sub(r\"\\s\\s+\", \" \", s)# Dùng re.sub để thay thế nhiều khoảng trắng bằng một khoảng trắng\n",
    "# chữ r có nghĩa là raw_string(chuỗi nguyên thủy), \\s là biểu thức đại diện cho 1 khoảng trắng(bao gồm tab và dầu enter)\n",
    "# \\s\\+ hàm này dùng để tìm nhiều hơn một khoảng trắng liên tiếp\n",
    "# \" \" dùng để thay thế cho các chuối con khớp với biểu thức chính quy\n",
    "print(f\"Chuoi chuan hoa khong co khoang thua: {a}\")\n",
    "\n",
    "s = ' '.join(a.split()) # join dùng để kết nối các kí tự lại với nhau( ở đây là khoảng trắng vì trước join có ' ')\n",
    "# a.split dùng để liệt kê 1 danh sách không có khoảng trắng thừa\n",
    "print(f\"Chuan hoa cac ki tu cach deu nhau va dau cau cach tu lien sau 1 khoang trang: {s}\")\n",
    "\n",
    "import re\n",
    "def capitalize_after_punctuation(input_string):# xác định chuỗi s sẽ viết hoa sau mỗi dấu câu\n",
    "   \n",
    "    pattern = r'([,\\.!?])\\s*(\\w)'  \n",
    "# r\"([,\\.]) khai báo các dấu câu, dấu \\. dùng để phân biệt với dấu . trong reget\n",
    "# \\s* tìm bất kì khoảng trống nào(nêu có )sau dấu câu\n",
    "#\\w tìm kí tự chữ hoặc số\n",
    "    def replace_function(match_object): \n",
    "        # replace_function dùng để xác định cách thay thế khi một mẫu regex được tìm thấy trong chuỗi\n",
    "        # math_object là đối tượng được truyền vào từ re.sub() khi nó tìm thấy một hàm phù hợp\n",
    "        \n",
    "        punctuation = match_object.group(1)# lấy giá trị của nhóm đầu tiên từ đối tượng math_object\n",
    "      \n",
    "        first_character = match_object.group(2).upper()# lấy giá trị của nhóm thứ 2 từ đối tượng match_object\n",
    "        # upper() hàm dùng để chuyển kí tự thành chữ in hoa\n",
    "        return punctuation + ' ' + first_character# hàm sẽ trả về và kết hợp với dấu câu,1 khoảng trắng và kí tự viết hoa để tạo 1 chuỗi mới\n",
    "\n",
    "    result_string = re.sub(pattern, replace_function, input_string)\n",
    "    # result_string chứa hàm đã được xử lí bởi các hàm bên trong\n",
    "    # sử dụng hàm re. sub() để tìm kiếm các mâu trong imput_string và thay thế chúng bằng giá trị trả về từ hàm replace_function\n",
    "    # pattern tìm các dấu câu và ký tự đầu tiên sau chúng\n",
    "    # replace_function hàm xác định mỗi khi tìm thấy mẫu\n",
    "    #imput_string chuỗi đầu vào mà bạn muốn xử lý \n",
    "    return result_string\n",
    "\n",
    "string = \"cho, em. xin! them? bai tap\"\n",
    "result = capitalize_after_punctuation(string)# gọi hàm với string \n",
    "print(f\"cac tu sau dau cau se duoc in hoa: {result}\")  \n",
    "\n"
   ]
  },
  {
   "cell_type": "markdown",
   "metadata": {},
   "source": [
    "## NHẬP VÀO MỘT CÂU VÀ ĐẢO NGƯỢC NÓ"
   ]
  },
  {
   "cell_type": "code",
   "execution_count": null,
   "metadata": {
    "vscode": {
     "languageId": "plaintext"
    }
   },
   "outputs": [],
   "source": [
    "def reverse_words(s):\n",
    "    words = s.split()\n",
    "    reversed_words = ' '.join(words[::-1])\n",
    "    return reversed_words\n",
    "s = \"cho em xin bai tap them\"\n",
    "print(f\"dao nguoc tu:\", reverse_words(s))"
   ]
  },
  {
   "cell_type": "markdown",
   "metadata": {},
   "source": [
    "## ĐẢO NGƯỢC CHỮ TRONG CÂU"
   ]
  },
  {
   "cell_type": "code",
   "execution_count": null,
   "metadata": {
    "vscode": {
     "languageId": "plaintext"
    }
   },
   "outputs": [],
   "source": [
    "def reverse_words(sentences):\n",
    "    words = sentences.split()\n",
    "    reversed_words = [''.join(reversed(word)) for word in words]\n",
    "    reversed_sentences = ' '.join(reversed_words)\n",
    "    return reversed_sentences\n",
    "sentences = \"cho em xin them bai tap\"\n",
    "print(f\"dao nguoc tu trong cau:\", reverse_words(sentences))"
   ]
  },
  {
   "cell_type": "markdown",
   "metadata": {},
   "source": [
    "## MỞ FILE JSON"
   ]
  },
  {
   "cell_type": "code",
   "execution_count": null,
   "metadata": {
    "vscode": {
     "languageId": "plaintext"
    }
   },
   "outputs": [],
   "source": [
    "import requests\n",
    "from win10toast import ToastNotifier\n",
    "import json\n",
    "import time\n",
    "\n",
    "def update():\n",
    "    try:\n",
    "        r = requests.get(\"http://coronavirus-19-api.herokuapp.com/all\")\n",
    "        r.raise_for_status()  # Check for HTTP errors\n",
    "\n",
    "        # Safely parse JSON response\n",
    "        try:\n",
    "            data = r.json()\n",
    "            text = f\"Cases: {data['cases']} \\nDeaths: {data['deaths']} \\nRecovered: {data['recovered']}\"\n",
    "            return text\n",
    "        except json.JSONDecodeError:\n",
    "            return \"Error decoding JSON response\"\n",
    "        \n",
    "    except requests.exceptions.RequestException as e:\n",
    "        return f\"Error fetching data: {e}\"\n",
    "\n",
    "t = ToastNotifier()  # Create a ToastNotifier instance outside the loop\n",
    "\n",
    "while True:\n",
    "    text = update()  # Update data\n",
    "    t.show_toast(\"Covid 19 Update\", text, duration=20)  # Display notification\n",
    "    time.sleep(60)  # Pause for 60 seconds before next update\n"
   ]
  },
  {
   "cell_type": "markdown",
   "metadata": {},
   "source": [
    "## ĐẾN CHỮ KHÔNG SỬ DỤNG LEN"
   ]
  },
  {
   "cell_type": "code",
   "execution_count": null,
   "metadata": {
    "vscode": {
     "languageId": "plaintext"
    }
   },
   "outputs": [],
   "source": [
    "def count_words_longer_than_n(s, n): #khai báo hàm sẽ đếm các từ trong chuối s có độ dài lớn hơn n\n",
    "    words = s.split()  # Tách chuỗi s thành các từ để đếm bằng dấu cách\n",
    "    count = 0 # gán giá trị 0 đầu tiên cho mẫu\n",
    "    for word in words:  # dùng để kiểm tra các từ\n",
    "        if len(word) > n:  # nếu từ có độ dài lớn hơn biến n thì cộng 1\n",
    "            count += 1 \n",
    "    count += 1\n",
    "    return count  # dùng để trả về biến count\n",
    "s = \"CHO EM XIN THEM BAI TAP\"\n",
    "n = 1\n",
    "print(\"số từ có nhiều hơn n kí tự trong biến s là:\", count_words_longer_than_n(s, n)) \n"
   ]
  },
  {
   "cell_type": "markdown",
   "metadata": {},
   "source": [
    "## NGÀY TRONG NĂM"
   ]
  },
  {
   "cell_type": "code",
   "execution_count": null,
   "metadata": {
    "vscode": {
     "languageId": "plaintext"
    }
   },
   "outputs": [],
   "source": [
    "day = float(input(\"Ngày: \"))\n",
    "month = float(input(\"Tháng: \"))\n",
    "if day.is_integer() and month.is_integer():\n",
    "    day = int(day)\n",
    "    month = int(month)\n",
    "    if 1 <= month <= 12:\n",
    "        print(\"ok\")\n",
    "        if (month in [4, 6, 9, 11] and 1 <= day <= 30) or \\\n",
    "           (month == 2 and 1 <= day <= 28) or \\\n",
    "           (month in [1, 3, 5, 7, 8, 10, 12] and 1 <= day <= 31):\n",
    "            print(\"Đủ điều kiện để tính toán\")\n",
    "            total_days = sum([31, 28, 31, 30, 31, 30, 31, 31, 30, 31, 30, 31][:month - 1]) + day\n",
    "            print(f\"Ngày {day}/{month} cách ngày đầu năm {total_days} ngày.\")\n",
    "        else:\n",
    "            print(\"Ngày không hợp lệ!\")\n",
    "    else:\n",
    "        print(\"Tháng không hợp lệ!\")\n",
    "else:\n",
    "    print(\"Vui lòng nhập số nguyên cho ngày và tháng.\")\n"
   ]
  },
  {
   "cell_type": "markdown",
   "metadata": {},
   "source": [
    "## ĐẾM SỐ CÂU"
   ]
  },
  {
   "cell_type": "markdown",
   "metadata": {},
   "source": [
    "def count_sentences(text): # khai báo hàm đếm câu\n",
    "    sentences = [sentence for sentence in text.split('.') if sentence] + \\\n",
    "                [sentence for sentence in text.split('!') if sentence]\n",
    "                # hàm dùng để chia chuỗi bằng dấu câu, dấu +\\ dùng để nối các câu lệnh có cùng chức năng với nhau nếu nó qá dài\n",
    "    unique_sentences = set(sentences)\n",
    "    return len(unique_sentences)\n",
    "text = \"alo A alo! cho em xin. them bai tap.\"\n",
    "print(f\"so cau trong van bản:\", count_sentences(text))"
   ]
  },
  {
   "cell_type": "markdown",
   "metadata": {},
   "source": [
    "## SỐ LẦN XUẤT HIỆN CỦA CHỮ"
   ]
  },
  {
   "cell_type": "code",
   "execution_count": null,
   "metadata": {
    "vscode": {
     "languageId": "plaintext"
    }
   },
   "outputs": [],
   "source": [
    "# Hàm để đếm số lần xuất hiện của từng từ trong chuỗi\n",
    "def count_words(string):\n",
    "    words_count = ()  # Từ điển để lưu trữ số lần xuất hiện\n",
    "\n",
    "    # Tách chuỗi thành các từ dựa trên dấu cách\n",
    "    words = string.split()  \n",
    "\n",
    "    for word in words:  # Lặp qua từng từ trong danh sách\n",
    "        if word in words_count:  # Nếu từ đã có trong từ điển\n",
    "            words_count(word) += 1  # Tăng số lần xuất hiện\n",
    "        else:\n",
    "            words_count(word) = 1  # Khởi tạo số lần xuất hiện bằng 1\n",
    "\n",
    "    return words_count\n",
    "\n",
    "# Nhập chuỗi từ người dùng\n",
    "string = input(\"Nhập chuỗi: \")\n",
    "\n",
    "# In kết quả\n",
    "for word, count in count_words(string).items():\n",
    "    print(f\"Từ {word} xuất hiện {count} lần trong chuỗi.\")\n"
   ]
  },
  {
   "cell_type": "markdown",
   "metadata": {},
   "source": [
    "## ĐỒNG HỒ"
   ]
  },
  {
   "cell_type": "code",
   "execution_count": null,
   "metadata": {
    "vscode": {
     "languageId": "plaintext"
    }
   },
   "outputs": [],
   "source": [
    "from tkinter import *\n",
    "from tkinter.ttk import *\n",
    "from time import strftime\n",
    "root = Tk()\n",
    "root.title(\"Digital Clock\")\n",
    "def clock():\n",
    "    string = strftime(\"%I:%M:%S:%p\")\n",
    "    label.config(text = string)\n",
    "    label.after(1000, clock)\n",
    "label = Label(root, font = (\"Digital-7\", 100), background = \"black\", foreground = \"blue\")\n",
    "label.pack(anchor = \"center\")\n",
    "clock()\n",
    "root.mainloop()"
   ]
  },
  {
   "cell_type": "markdown",
   "metadata": {},
   "source": [
    "## SỐ LỚN NHẤT NHỎ NHẤT VÀ TÍNH TỔNG"
   ]
  },
  {
   "cell_type": "code",
   "execution_count": null,
   "metadata": {
    "vscode": {
     "languageId": "plaintext"
    }
   },
   "outputs": [],
   "source": [
    "import numpy\n",
    "L = list(map(int, input(\"Enter numbers separated by spaces: \").split()))\n",
    "print(f\"Total numbers in the list = {sum(L)}\")\n",
    "print(f\"Largest value in the list: {max(L)}\")\n",
    "print(f\"Smallest value in the list: {min(L)}\")\n",
    "list = []\n",
    "def is_prime(n):\n",
    "    if n <= 1:\n",
    "        return False\n",
    "    for i in range(2, int(n**0.5) + 1):\n",
    "        if n % i == 0:\n",
    "            return False\n",
    "    return True\n",
    "\n",
    "def all_primes(numbers):\n",
    "    for num in numbers:\n",
    "        if not is_prime(num):  # Nếu bất kỳ số nào không là số nguyên tố\n",
    "            return False\n",
    "    return True  # Trả về True nếu tất cả các số đều là số nguyên tố\n",
    "\n",
    "if all_primes(L):\n",
    "    print(f\"Tất cả các số {L} trong dãy đều là số nguyên tố\")\n",
    "else:\n",
    "    print(\"Dãy số có chứa số không phải là số nguyên tố.\")"
   ]
  },
  {
   "cell_type": "markdown",
   "metadata": {},
   "source": [
    "## DÙNG NUMPY "
   ]
  },
  {
   "cell_type": "code",
   "execution_count": null,
   "metadata": {
    "vscode": {
     "languageId": "plaintext"
    }
   },
   "outputs": [],
   "source": [
    "# Declare to work with the numpy function\n",
    "import numpy\n",
    "number = list(map(int, input(\"Enter number: \").split())) \n",
    "n = []\n",
    "for i in number:\n",
    "    if i > 0:\n",
    "        n.append(i)\n",
    "# if there are numbers in n\n",
    "if n:\n",
    "    # prints the number greater than 0 among the entered numbers\n",
    "    print(f\"Integer greater than  0 in {number} is: {n}\")\n",
    "else:\n",
    "    #If there is no integer greater than 0, print none\n",
    "    print(\"There is no greater than 0\")"
   ]
  },
  {
   "cell_type": "markdown",
   "metadata": {},
   "source": [
    "## TRÒ CHƠI KÉO BÚA BAO"
   ]
  },
  {
   "cell_type": "code",
   "execution_count": null,
   "metadata": {
    "vscode": {
     "languageId": "plaintext"
    }
   },
   "outputs": [],
   "source": [
    "from random import randint\n",
    "\n",
    "print(\"Nhap Keo, Bua, Bao:\")\n",
    "player = input()\n",
    "computer  = randint(0,2)\n",
    "\n",
    "\n",
    "\n",
    "if computer == 0:\n",
    "    computer = \"Bua\"\n",
    "if computer == 1:\n",
    "    compuer = \"keo\"\n",
    "if computer == 2:\n",
    "    computer = \"Bao\"\n",
    "\n",
    "print(\"Computer đang si nghĩ\")\n",
    "print(\"You choose: \" == player)\n",
    "print(\"Computer chooses: \" == computer)\n",
    "print(\"............\")\n",
    "\n",
    "\n",
    "if player == computer:\n",
    "    print(\"Draw, haiza lại nào\")\n",
    "else:\n",
    "    if player == \"Bua\": \n",
    "        if computer == \"Keo\":\n",
    "            print(\"You win, xin chúc mừng bạn\")\n",
    "        else:\n",
    "            print(\"You lose, chúc bạn may măn lần sau\")\n",
    "    elif player == \"Keo\": \n",
    "        if computer == \"Bao\":\n",
    "            print(\"You win, xin chúc mừng bạn\")\n",
    "        else:\n",
    "            print(\"You lose, chúc bạn may măn lần sau\")\n",
    "    elif player == \"Bao\": \n",
    "        if computer == \"Bua\":\n",
    "            print(\"You win, xin chúc mừng bạn\")\n",
    "        else:\n",
    "            print(\"You lose, chúc bạn may măn lần sau\")\n",
    "    else:\n",
    "        print(\"Nhập sai\")\n",
    "    "
   ]
  },
  {
   "cell_type": "markdown",
   "metadata": {},
   "source": [
    "## KIỂM TRA KÍ TỰ HỢP LỆ"
   ]
  },
  {
   "cell_type": "code",
   "execution_count": null,
   "metadata": {
    "vscode": {
     "languageId": "plaintext"
    }
   },
   "outputs": [],
   "source": [
    "def isValid(s):# hàm dùng để đếm số lượng dấu ngoặc mở\n",
    "    count = 0\n",
    "    for char in s: \n",
    "        \n",
    "        if char == '(':\n",
    "            count += 1\n",
    "        elif char == ')':\n",
    "            count -= 1\n",
    "        if count < 0: \n",
    "            return False\n",
    "    \n",
    "    return count == 0\n",
    "\n",
    "s1 = \"((()))\"\n",
    "s2 = \"(()))(\"\n",
    "print(f\"kiểm tra chuỗi s1:\", isValid(s1))  \n",
    "print(f\"kiểm tra chuỗi s2:\", isValid(s2) )\n"
   ]
  },
  {
   "cell_type": "code",
   "execution_count": null,
   "metadata": {
    "vscode": {
     "languageId": "plaintext"
    }
   },
   "outputs": [],
   "source": []
  }
 ],
 "metadata": {
  "language_info": {
   "name": "python"
  }
 },
 "nbformat": 4,
 "nbformat_minor": 2
}
